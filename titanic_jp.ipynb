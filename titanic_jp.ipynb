{
 "cells": [
  {
   "cell_type": "markdown",
   "metadata": {},
   "source": [
    "##データの入手"
   ]
  },
  {
   "cell_type": "code",
   "execution_count": 1,
   "metadata": {
    "collapsed": false
   },
   "outputs": [],
   "source": [
    "%matplotlib inline\n",
    "import matplotlib.pyplot as plt\n",
    "import pandas as pd"
   ]
  },
  {
   "cell_type": "markdown",
   "metadata": {},
   "source": [
    "Data obtained from http://biostat.mc.vanderbilt.edu/DataSets"
   ]
  },
  {
   "cell_type": "code",
   "execution_count": 2,
   "metadata": {
    "collapsed": false
   },
   "outputs": [],
   "source": [
    "data = pd.read_csv('http://biostat.mc.vanderbilt.edu/wiki/pub/Main/DataSets/titanic3.csv')"
   ]
  },
  {
   "cell_type": "markdown",
   "metadata": {},
   "source": [
    "pclassの型を数値から文字列に変換"
   ]
  },
  {
   "cell_type": "code",
   "execution_count": 3,
   "metadata": {
    "collapsed": false
   },
   "outputs": [],
   "source": [
    "data['pclass'] = data['pclass'].map(str)"
   ]
  },
  {
   "cell_type": "markdown",
   "metadata": {},
   "source": [
    "##データの確認"
   ]
  },
  {
   "cell_type": "markdown",
   "metadata": {},
   "source": [
    "survived: 1（生存），0（死亡）  \n",
    "pclass: 乗客の社会経済的地位（1:上流，2:中流，3:下流）  \n",
    "name: 氏名  \n",
    "sex: 性別  \n",
    "age: 年齢  \n",
    "sibsp: 同乗したSibling/Spouseの数  \n",
    "parch: 同乗したParent/Childrenの数  \n",
    "ticket: チケットナンバー  \n",
    "fare: 乗船料金  \n",
    "cabin: 船室番号  \n",
    "embarked: 乗船場（C = Cherbourg, Q = Queenstown; S = Southampton）  \n",
    "boat: Lifeboat  \n",
    "body:  Body Identification Number  \n",
    "home.dest:  Home/Destination"
   ]
  },
  {
   "cell_type": "code",
   "execution_count": 4,
   "metadata": {
    "collapsed": false
   },
   "outputs": [
    {
     "data": {
      "text/plain": [
       "<bound method DataFrame.describe of      pclass  survived                                               name  \\\n",
       "0         1         1                      Allen, Miss. Elisabeth Walton   \n",
       "1         1         1                     Allison, Master. Hudson Trevor   \n",
       "2         1         0                       Allison, Miss. Helen Loraine   \n",
       "3         1         0               Allison, Mr. Hudson Joshua Creighton   \n",
       "4         1         0    Allison, Mrs. Hudson J C (Bessie Waldo Daniels)   \n",
       "5         1         1                                Anderson, Mr. Harry   \n",
       "6         1         1                  Andrews, Miss. Kornelia Theodosia   \n",
       "7         1         0                             Andrews, Mr. Thomas Jr   \n",
       "8         1         1      Appleton, Mrs. Edward Dale (Charlotte Lamson)   \n",
       "9         1         0                            Artagaveytia, Mr. Ramon   \n",
       "10        1         0                             Astor, Col. John Jacob   \n",
       "11        1         1  Astor, Mrs. John Jacob (Madeleine Talmadge Force)   \n",
       "12        1         1                      Aubart, Mme. Leontine Pauline   \n",
       "13        1         1                       Barber, Miss. Ellen \"Nellie\"   \n",
       "14        1         1               Barkworth, Mr. Algernon Henry Wilson   \n",
       "15        1         0                                Baumann, Mr. John D   \n",
       "16        1         0                           Baxter, Mr. Quigg Edmond   \n",
       "17        1         1    Baxter, Mrs. James (Helene DeLaudeniere Chaput)   \n",
       "18        1         1                              Bazzani, Miss. Albina   \n",
       "19        1         0                               Beattie, Mr. Thomson   \n",
       "20        1         1                      Beckwith, Mr. Richard Leonard   \n",
       "21        1         1   Beckwith, Mrs. Richard Leonard (Sallie Monypeny)   \n",
       "22        1         1                              Behr, Mr. Karl Howell   \n",
       "23        1         1                              Bidois, Miss. Rosalie   \n",
       "24        1         1                                  Bird, Miss. Ellen   \n",
       "25        1         0                                Birnbaum, Mr. Jakob   \n",
       "26        1         1                            Bishop, Mr. Dickinson H   \n",
       "27        1         1            Bishop, Mrs. Dickinson H (Helen Walton)   \n",
       "28        1         1                             Bissette, Miss. Amelia   \n",
       "29        1         1          Bjornstrom-Steffansson, Mr. Mauritz Hakan   \n",
       "...     ...       ...                                                ...   \n",
       "1279      3         0               Vestrom, Miss. Hulda Amanda Adolfina   \n",
       "1280      3         0                                    Vovk, Mr. Janko   \n",
       "1281      3         0                               Waelens, Mr. Achille   \n",
       "1282      3         0                                Ware, Mr. Frederick   \n",
       "1283      3         0                        Warren, Mr. Charles William   \n",
       "1284      3         0                                  Webber, Mr. James   \n",
       "1285      3         0                                Wenzel, Mr. Linhart   \n",
       "1286      3         1    Whabee, Mrs. George Joseph (Shawneene Abi-Saab)   \n",
       "1287      3         0                   Widegren, Mr. Carl/Charles Peter   \n",
       "1288      3         0                          Wiklund, Mr. Jakob Alfred   \n",
       "1289      3         0                            Wiklund, Mr. Karl Johan   \n",
       "1290      3         1                   Wilkes, Mrs. James (Ellen Needs)   \n",
       "1291      3         0                   Willer, Mr. Aaron (\"Abi Weller\")   \n",
       "1292      3         0                                 Willey, Mr. Edward   \n",
       "1293      3         0                  Williams, Mr. Howard Hugh \"Harry\"   \n",
       "1294      3         0                               Williams, Mr. Leslie   \n",
       "1295      3         0                                Windelov, Mr. Einar   \n",
       "1296      3         0                                   Wirz, Mr. Albert   \n",
       "1297      3         0                             Wiseman, Mr. Phillippe   \n",
       "1298      3         0                          Wittevrongel, Mr. Camille   \n",
       "1299      3         0                                Yasbeck, Mr. Antoni   \n",
       "1300      3         1            Yasbeck, Mrs. Antoni (Selini Alexander)   \n",
       "1301      3         0                               Youseff, Mr. Gerious   \n",
       "1302      3         0                                  Yousif, Mr. Wazli   \n",
       "1303      3         0                              Yousseff, Mr. Gerious   \n",
       "1304      3         0                               Zabour, Miss. Hileni   \n",
       "1305      3         0                              Zabour, Miss. Thamine   \n",
       "1306      3         0                          Zakarian, Mr. Mapriededer   \n",
       "1307      3         0                                Zakarian, Mr. Ortin   \n",
       "1308      3         0                                 Zimmerman, Mr. Leo   \n",
       "\n",
       "         sex    age  sibsp  parch            ticket      fare    cabin  \\\n",
       "0     female  29.00      0      0             24160  211.3375       B5   \n",
       "1       male   0.92      1      2            113781  151.5500  C22 C26   \n",
       "2     female   2.00      1      2            113781  151.5500  C22 C26   \n",
       "3       male  30.00      1      2            113781  151.5500  C22 C26   \n",
       "4     female  25.00      1      2            113781  151.5500  C22 C26   \n",
       "5       male  48.00      0      0             19952   26.5500      E12   \n",
       "6     female  63.00      1      0             13502   77.9583       D7   \n",
       "7       male  39.00      0      0            112050    0.0000      A36   \n",
       "8     female  53.00      2      0             11769   51.4792     C101   \n",
       "9       male  71.00      0      0          PC 17609   49.5042      NaN   \n",
       "10      male  47.00      1      0          PC 17757  227.5250  C62 C64   \n",
       "11    female  18.00      1      0          PC 17757  227.5250  C62 C64   \n",
       "12    female  24.00      0      0          PC 17477   69.3000      B35   \n",
       "13    female  26.00      0      0             19877   78.8500      NaN   \n",
       "14      male  80.00      0      0             27042   30.0000      A23   \n",
       "15      male    NaN      0      0          PC 17318   25.9250      NaN   \n",
       "16      male  24.00      0      1          PC 17558  247.5208  B58 B60   \n",
       "17    female  50.00      0      1          PC 17558  247.5208  B58 B60   \n",
       "18    female  32.00      0      0             11813   76.2917      D15   \n",
       "19      male  36.00      0      0             13050   75.2417       C6   \n",
       "20      male  37.00      1      1             11751   52.5542      D35   \n",
       "21    female  47.00      1      1             11751   52.5542      D35   \n",
       "22      male  26.00      0      0            111369   30.0000     C148   \n",
       "23    female  42.00      0      0          PC 17757  227.5250      NaN   \n",
       "24    female  29.00      0      0          PC 17483  221.7792      C97   \n",
       "25      male  25.00      0      0             13905   26.0000      NaN   \n",
       "26      male  25.00      1      0             11967   91.0792      B49   \n",
       "27    female  19.00      1      0             11967   91.0792      B49   \n",
       "28    female  35.00      0      0          PC 17760  135.6333      C99   \n",
       "29      male  28.00      0      0            110564   26.5500      C52   \n",
       "...      ...    ...    ...    ...               ...       ...      ...   \n",
       "1279  female  14.00      0      0            350406    7.8542      NaN   \n",
       "1280    male  22.00      0      0            349252    7.8958      NaN   \n",
       "1281    male  22.00      0      0            345767    9.0000      NaN   \n",
       "1282    male    NaN      0      0            359309    8.0500      NaN   \n",
       "1283    male    NaN      0      0        C.A. 49867    7.5500      NaN   \n",
       "1284    male    NaN      0      0  SOTON/OQ 3101316    8.0500      NaN   \n",
       "1285    male  32.50      0      0            345775    9.5000      NaN   \n",
       "1286  female  38.00      0      0              2688    7.2292      NaN   \n",
       "1287    male  51.00      0      0            347064    7.7500      NaN   \n",
       "1288    male  18.00      1      0           3101267    6.4958      NaN   \n",
       "1289    male  21.00      1      0           3101266    6.4958      NaN   \n",
       "1290  female  47.00      1      0            363272    7.0000      NaN   \n",
       "1291    male    NaN      0      0              3410    8.7125      NaN   \n",
       "1292    male    NaN      0      0     S.O./P.P. 751    7.5500      NaN   \n",
       "1293    male    NaN      0      0          A/5 2466    8.0500      NaN   \n",
       "1294    male  28.50      0      0             54636   16.1000      NaN   \n",
       "1295    male  21.00      0      0  SOTON/OQ 3101317    7.2500      NaN   \n",
       "1296    male  27.00      0      0            315154    8.6625      NaN   \n",
       "1297    male    NaN      0      0        A/4. 34244    7.2500      NaN   \n",
       "1298    male  36.00      0      0            345771    9.5000      NaN   \n",
       "1299    male  27.00      1      0              2659   14.4542      NaN   \n",
       "1300  female  15.00      1      0              2659   14.4542      NaN   \n",
       "1301    male  45.50      0      0              2628    7.2250      NaN   \n",
       "1302    male    NaN      0      0              2647    7.2250      NaN   \n",
       "1303    male    NaN      0      0              2627   14.4583      NaN   \n",
       "1304  female  14.50      1      0              2665   14.4542      NaN   \n",
       "1305  female    NaN      1      0              2665   14.4542      NaN   \n",
       "1306    male  26.50      0      0              2656    7.2250      NaN   \n",
       "1307    male  27.00      0      0              2670    7.2250      NaN   \n",
       "1308    male  29.00      0      0            315082    7.8750      NaN   \n",
       "\n",
       "     embarked boat  body                           home.dest  \n",
       "0           S    2   NaN                        St Louis, MO  \n",
       "1           S   11   NaN     Montreal, PQ / Chesterville, ON  \n",
       "2           S  NaN   NaN     Montreal, PQ / Chesterville, ON  \n",
       "3           S  NaN   135     Montreal, PQ / Chesterville, ON  \n",
       "4           S  NaN   NaN     Montreal, PQ / Chesterville, ON  \n",
       "5           S    3   NaN                        New York, NY  \n",
       "6           S   10   NaN                          Hudson, NY  \n",
       "7           S  NaN   NaN                         Belfast, NI  \n",
       "8           S    D   NaN                 Bayside, Queens, NY  \n",
       "9           C  NaN    22                 Montevideo, Uruguay  \n",
       "10          C  NaN   124                        New York, NY  \n",
       "11          C    4   NaN                        New York, NY  \n",
       "12          C    9   NaN                       Paris, France  \n",
       "13          S    6   NaN                                 NaN  \n",
       "14          S    B   NaN                       Hessle, Yorks  \n",
       "15          S  NaN   NaN                        New York, NY  \n",
       "16          C  NaN   NaN                        Montreal, PQ  \n",
       "17          C    6   NaN                        Montreal, PQ  \n",
       "18          C    8   NaN                                 NaN  \n",
       "19          C    A   NaN                        Winnipeg, MN  \n",
       "20          S    5   NaN                        New York, NY  \n",
       "21          S    5   NaN                        New York, NY  \n",
       "22          C    5   NaN                        New York, NY  \n",
       "23          C    4   NaN                                 NaN  \n",
       "24          S    8   NaN                                 NaN  \n",
       "25          C  NaN   148                   San Francisco, CA  \n",
       "26          C    7   NaN                        Dowagiac, MI  \n",
       "27          C    7   NaN                        Dowagiac, MI  \n",
       "28          S    8   NaN                                 NaN  \n",
       "29          S    D   NaN  Stockholm, Sweden / Washington, DC  \n",
       "...       ...  ...   ...                                 ...  \n",
       "1279        S  NaN   NaN                                 NaN  \n",
       "1280        S  NaN   NaN                                 NaN  \n",
       "1281        S  NaN   NaN      Antwerp, Belgium / Stanton, OH  \n",
       "1282        S  NaN   NaN                                 NaN  \n",
       "1283        S  NaN   NaN                                 NaN  \n",
       "1284        S  NaN   NaN                                 NaN  \n",
       "1285        S  NaN   298                                 NaN  \n",
       "1286        C    C   NaN                                 NaN  \n",
       "1287        S  NaN   NaN                                 NaN  \n",
       "1288        S  NaN   314                                 NaN  \n",
       "1289        S  NaN   NaN                                 NaN  \n",
       "1290        S  NaN   NaN                                 NaN  \n",
       "1291        S  NaN   NaN                                 NaN  \n",
       "1292        S  NaN   NaN                                 NaN  \n",
       "1293        S  NaN   NaN                                 NaN  \n",
       "1294        S  NaN    14                                 NaN  \n",
       "1295        S  NaN   NaN                                 NaN  \n",
       "1296        S  NaN   131                                 NaN  \n",
       "1297        S  NaN   NaN                                 NaN  \n",
       "1298        S  NaN   NaN                                 NaN  \n",
       "1299        C    C   NaN                                 NaN  \n",
       "1300        C  NaN   NaN                                 NaN  \n",
       "1301        C  NaN   312                                 NaN  \n",
       "1302        C  NaN   NaN                                 NaN  \n",
       "1303        C  NaN   NaN                                 NaN  \n",
       "1304        C  NaN   328                                 NaN  \n",
       "1305        C  NaN   NaN                                 NaN  \n",
       "1306        C  NaN   304                                 NaN  \n",
       "1307        C  NaN   NaN                                 NaN  \n",
       "1308        S  NaN   NaN                                 NaN  \n",
       "\n",
       "[1309 rows x 14 columns]>"
      ]
     },
     "execution_count": 4,
     "metadata": {},
     "output_type": "execute_result"
    }
   ],
   "source": [
    "data.describe"
   ]
  },
  {
   "cell_type": "markdown",
   "metadata": {},
   "source": [
    "##欠損値の確認"
   ]
  },
  {
   "cell_type": "code",
   "execution_count": 5,
   "metadata": {
    "collapsed": false
   },
   "outputs": [
    {
     "data": {
      "text/plain": [
       "pclass       0.000000\n",
       "survived     0.000000\n",
       "name         0.000000\n",
       "sex          0.000000\n",
       "age          0.200917\n",
       "sibsp        0.000000\n",
       "parch        0.000000\n",
       "ticket       0.000000\n",
       "fare         0.000764\n",
       "cabin        0.774637\n",
       "embarked     0.001528\n",
       "boat         0.628724\n",
       "body         0.907563\n",
       "home.dest    0.430863\n",
       "dtype: float64"
      ]
     },
     "execution_count": 5,
     "metadata": {},
     "output_type": "execute_result"
    }
   ],
   "source": [
    "(len(data) - data.count()) / len(data)"
   ]
  },
  {
   "cell_type": "markdown",
   "metadata": {},
   "source": [
    "##特徴量の選択"
   ]
  },
  {
   "cell_type": "markdown",
   "metadata": {},
   "source": [
    "欠損値の多い特徴量や，分析に有効でなさそうな特徴量を削除します．  \n",
    "※本来特徴量の選択は分析の試行錯誤のなかで行うべきですが，演習の都合上最初に行っています．"
   ]
  },
  {
   "cell_type": "code",
   "execution_count": 6,
   "metadata": {
    "collapsed": false
   },
   "outputs": [],
   "source": [
    "data2 = data.drop(['name', 'ticket', 'cabin', 'boat', 'body', 'home.dest'], 1)"
   ]
  },
  {
   "cell_type": "markdown",
   "metadata": {},
   "source": [
    "## データの可視化"
   ]
  },
  {
   "cell_type": "markdown",
   "metadata": {},
   "source": [
    "カテゴリデータ（pclass, embarked, sex）は積み上げ棒グラフにして  \n",
    "変数の割合と，変数内の生死の割合を可視化"
   ]
  },
  {
   "cell_type": "code",
   "execution_count": 7,
   "metadata": {
    "collapsed": false
   },
   "outputs": [
    {
     "data": {
      "image/png": "[encoded data removed]",
      "text/plain": [
       "<matplotlib.figure.Figure at 0x10752b6d0>"
      ]
     },
     "metadata": {},
     "output_type": "display_data"
    }
   ],
   "source": [
    "fig, axes = plt.subplots(nrows=2, ncols=2, figsize=(15, 10))\n",
    "\n",
    "pd.pivot_table(data2, index=['pclass'], columns=['survived'],\n",
    "               aggfunc='count')['sex'].plot(kind='barh', stacked=True,\n",
    "                                            ax=axes[0,0])\n",
    "\n",
    "pd.pivot_table(data2, index=['embarked'], columns=['survived'],\n",
    "               aggfunc='count')['pclass'].plot(kind='barh', stacked=True,\n",
    "                                               ax=axes[0,1])\n",
    "\n",
    "pd.pivot_table(data2, index=['sex'], columns=['survived'],\n",
    "               aggfunc='count')['pclass'].plot(kind='barh', stacked=True,\n",
    "                                               ax=axes[1,0])\n",
    "\n",
    "plt.subplots_adjust(wspace=.5)"
   ]
  },
  {
   "cell_type": "markdown",
   "metadata": {},
   "source": [
    "数値データ（age, sibsp, parch, fare）は生／死ごとにヒストグラムで可視化"
   ]
  },
  {
   "cell_type": "code",
   "execution_count": 8,
   "metadata": {
    "collapsed": false
   },
   "outputs": [
    {
     "data": {
      "image/png": "[encoded data removed]",
      "text/plain": [
       "<matplotlib.figure.Figure at 0x1075336d0>"
      ]
     },
     "metadata": {},
     "output_type": "display_data"
    }
   ],
   "source": [
    "fig, axes = plt.subplots(nrows=2, ncols=2, figsize=(15, 10))\n",
    "\n",
    "h = pd.concat([data2['age'][data2['survived']==0],\n",
    "               data2['age'][data2['survived']==1]], axis=1)\n",
    "h.columns = ['survived: 0', 'survived: 1']\n",
    "h.plot(kind='hist', bins=15, alpha=0.3, color=('r','b'),\n",
    "       ax=axes[0,0], title='age')\n",
    "\n",
    "h = pd.concat([data2['sibsp'][data2['survived']==0],\n",
    "               data2['sibsp'][data2['survived']==1]], axis=1)\n",
    "h.columns = ['survived: 0', 'survived: 1']\n",
    "h.plot(kind='hist', bins=8, alpha=0.3, color=('r','b'),\n",
    "       ax=axes[0,1], title='sibsp')\n",
    "\n",
    "h = pd.concat([data2['parch'][data2['survived']==0],\n",
    "               data2['parch'][data2['survived']==1]], axis=1)\n",
    "h.columns = ['survived: 0', 'survived: 1']\n",
    "h.plot(kind='hist', bins=9, alpha=0.3, color=('r','b'),\n",
    "       ax=axes[1,0], title='parch')\n",
    "\n",
    "h = pd.concat([data2['fare'][data2['survived']==0],\n",
    "               data2['fare'][data2['survived']==1]], axis=1)\n",
    "h.columns = ['survived: 0', 'survived: 1']\n",
    "h.plot(kind='hist', bins=15, alpha=0.3, color=('r','b'),\n",
    "       ax=axes[1,1], title='fare')\n",
    "\n",
    "plt.subplots_adjust(wspace=.5)"
   ]
  },
  {
   "cell_type": "markdown",
   "metadata": {},
   "source": [
    "#### 特徴量同士の関係を可視化  \n",
    "カテゴリデータ同士の関係はクロス集計（Cross tabulation）で可視化  \n",
    "※parch, sibspは数値データですが，取りうる値が限られているためクロス集計を利用"
   ]
  },
  {
   "cell_type": "code",
   "execution_count": 9,
   "metadata": {
    "collapsed": false
   },
   "outputs": [
    {
     "data": {
      "text/html": [
       "<div>\n",
       "<table border=\"1\" class=\"dataframe\">\n",
       "  <thead>\n",
       "    <tr style=\"text-align: right;\">\n",
       "      <th>pclass</th>\n",
       "      <th>1</th>\n",
       "      <th>2</th>\n",
       "      <th>3</th>\n",
       "    </tr>\n",
       "    <tr>\n",
       "      <th>embarked</th>\n",
       "      <th></th>\n",
       "      <th></th>\n",
       "      <th></th>\n",
       "    </tr>\n",
       "  </thead>\n",
       "  <tbody>\n",
       "    <tr>\n",
       "      <th>C</th>\n",
       "      <td>141</td>\n",
       "      <td>28</td>\n",
       "      <td>101</td>\n",
       "    </tr>\n",
       "    <tr>\n",
       "      <th>Q</th>\n",
       "      <td>3</td>\n",
       "      <td>7</td>\n",
       "      <td>113</td>\n",
       "    </tr>\n",
       "    <tr>\n",
       "      <th>S</th>\n",
       "      <td>177</td>\n",
       "      <td>242</td>\n",
       "      <td>495</td>\n",
       "    </tr>\n",
       "  </tbody>\n",
       "</table>\n",
       "</div>"
      ],
      "text/plain": [
       "pclass      1    2    3\n",
       "embarked               \n",
       "C         141   28  101\n",
       "Q           3    7  113\n",
       "S         177  242  495"
      ]
     },
     "execution_count": 9,
     "metadata": {},
     "output_type": "execute_result"
    }
   ],
   "source": [
    "pd.crosstab(data2['embarked'], data2['pclass'])"
   ]
  },
  {
   "cell_type": "code",
   "execution_count": 10,
   "metadata": {
    "collapsed": false
   },
   "outputs": [
    {
     "data": {
      "text/html": [
       "<div>\n",
       "<table border=\"1\" class=\"dataframe\">\n",
       "  <thead>\n",
       "    <tr style=\"text-align: right;\">\n",
       "      <th>sex</th>\n",
       "      <th>female</th>\n",
       "      <th>male</th>\n",
       "    </tr>\n",
       "    <tr>\n",
       "      <th>embarked</th>\n",
       "      <th></th>\n",
       "      <th></th>\n",
       "    </tr>\n",
       "  </thead>\n",
       "  <tbody>\n",
       "    <tr>\n",
       "      <th>C</th>\n",
       "      <td>113</td>\n",
       "      <td>157</td>\n",
       "    </tr>\n",
       "    <tr>\n",
       "      <th>Q</th>\n",
       "      <td>60</td>\n",
       "      <td>63</td>\n",
       "    </tr>\n",
       "    <tr>\n",
       "      <th>S</th>\n",
       "      <td>291</td>\n",
       "      <td>623</td>\n",
       "    </tr>\n",
       "  </tbody>\n",
       "</table>\n",
       "</div>"
      ],
      "text/plain": [
       "sex       female  male\n",
       "embarked              \n",
       "C            113   157\n",
       "Q             60    63\n",
       "S            291   623"
      ]
     },
     "execution_count": 10,
     "metadata": {},
     "output_type": "execute_result"
    }
   ],
   "source": [
    "pd.crosstab(data2['embarked'], data2['sex'])"
   ]
  },
  {
   "cell_type": "code",
   "execution_count": 11,
   "metadata": {
    "collapsed": false
   },
   "outputs": [
    {
     "data": {
      "text/html": [
       "<div>\n",
       "<table border=\"1\" class=\"dataframe\">\n",
       "  <thead>\n",
       "    <tr style=\"text-align: right;\">\n",
       "      <th>sibsp</th>\n",
       "      <th>0</th>\n",
       "      <th>1</th>\n",
       "      <th>2</th>\n",
       "      <th>3</th>\n",
       "      <th>4</th>\n",
       "      <th>5</th>\n",
       "      <th>8</th>\n",
       "    </tr>\n",
       "    <tr>\n",
       "      <th>embarked</th>\n",
       "      <th></th>\n",
       "      <th></th>\n",
       "      <th></th>\n",
       "      <th></th>\n",
       "      <th></th>\n",
       "      <th></th>\n",
       "      <th></th>\n",
       "    </tr>\n",
       "  </thead>\n",
       "  <tbody>\n",
       "    <tr>\n",
       "      <th>C</th>\n",
       "      <td>171</td>\n",
       "      <td>90</td>\n",
       "      <td>9</td>\n",
       "      <td>0</td>\n",
       "      <td>0</td>\n",
       "      <td>0</td>\n",
       "      <td>0</td>\n",
       "    </tr>\n",
       "    <tr>\n",
       "      <th>Q</th>\n",
       "      <td>100</td>\n",
       "      <td>14</td>\n",
       "      <td>4</td>\n",
       "      <td>0</td>\n",
       "      <td>5</td>\n",
       "      <td>0</td>\n",
       "      <td>0</td>\n",
       "    </tr>\n",
       "    <tr>\n",
       "      <th>S</th>\n",
       "      <td>618</td>\n",
       "      <td>215</td>\n",
       "      <td>29</td>\n",
       "      <td>20</td>\n",
       "      <td>17</td>\n",
       "      <td>6</td>\n",
       "      <td>9</td>\n",
       "    </tr>\n",
       "  </tbody>\n",
       "</table>\n",
       "</div>"
      ],
      "text/plain": [
       "sibsp       0    1   2   3   4  5  8\n",
       "embarked                            \n",
       "C         171   90   9   0   0  0  0\n",
       "Q         100   14   4   0   5  0  0\n",
       "S         618  215  29  20  17  6  9"
      ]
     },
     "execution_count": 11,
     "metadata": {},
     "output_type": "execute_result"
    }
   ],
   "source": [
    "pd.crosstab(data2['embarked'], data2['sibsp'])"
   ]
  },
  {
   "cell_type": "code",
   "execution_count": 12,
   "metadata": {
    "collapsed": false
   },
   "outputs": [
    {
     "data": {
      "text/html": [
       "<div>\n",
       "<table border=\"1\" class=\"dataframe\">\n",
       "  <thead>\n",
       "    <tr style=\"text-align: right;\">\n",
       "      <th>parch</th>\n",
       "      <th>0</th>\n",
       "      <th>1</th>\n",
       "      <th>2</th>\n",
       "      <th>3</th>\n",
       "      <th>4</th>\n",
       "      <th>5</th>\n",
       "      <th>6</th>\n",
       "      <th>9</th>\n",
       "    </tr>\n",
       "    <tr>\n",
       "      <th>embarked</th>\n",
       "      <th></th>\n",
       "      <th></th>\n",
       "      <th></th>\n",
       "      <th></th>\n",
       "      <th></th>\n",
       "      <th></th>\n",
       "      <th></th>\n",
       "      <th></th>\n",
       "    </tr>\n",
       "  </thead>\n",
       "  <tbody>\n",
       "    <tr>\n",
       "      <th>C</th>\n",
       "      <td>196</td>\n",
       "      <td>51</td>\n",
       "      <td>20</td>\n",
       "      <td>3</td>\n",
       "      <td>0</td>\n",
       "      <td>0</td>\n",
       "      <td>0</td>\n",
       "      <td>0</td>\n",
       "    </tr>\n",
       "    <tr>\n",
       "      <th>Q</th>\n",
       "      <td>114</td>\n",
       "      <td>7</td>\n",
       "      <td>1</td>\n",
       "      <td>0</td>\n",
       "      <td>0</td>\n",
       "      <td>1</td>\n",
       "      <td>0</td>\n",
       "      <td>0</td>\n",
       "    </tr>\n",
       "    <tr>\n",
       "      <th>S</th>\n",
       "      <td>690</td>\n",
       "      <td>112</td>\n",
       "      <td>92</td>\n",
       "      <td>5</td>\n",
       "      <td>6</td>\n",
       "      <td>5</td>\n",
       "      <td>2</td>\n",
       "      <td>2</td>\n",
       "    </tr>\n",
       "  </tbody>\n",
       "</table>\n",
       "</div>"
      ],
      "text/plain": [
       "parch       0    1   2  3  4  5  6  9\n",
       "embarked                             \n",
       "C         196   51  20  3  0  0  0  0\n",
       "Q         114    7   1  0  0  1  0  0\n",
       "S         690  112  92  5  6  5  2  2"
      ]
     },
     "execution_count": 12,
     "metadata": {},
     "output_type": "execute_result"
    }
   ],
   "source": [
    "pd.crosstab(data2['embarked'], data2['parch'])"
   ]
  },
  {
   "cell_type": "code",
   "execution_count": 13,
   "metadata": {
    "collapsed": false
   },
   "outputs": [
    {
     "data": {
      "text/html": [
       "<div>\n",
       "<table border=\"1\" class=\"dataframe\">\n",
       "  <thead>\n",
       "    <tr style=\"text-align: right;\">\n",
       "      <th>sex</th>\n",
       "      <th>female</th>\n",
       "      <th>male</th>\n",
       "    </tr>\n",
       "    <tr>\n",
       "      <th>pclass</th>\n",
       "      <th></th>\n",
       "      <th></th>\n",
       "    </tr>\n",
       "  </thead>\n",
       "  <tbody>\n",
       "    <tr>\n",
       "      <th>1</th>\n",
       "      <td>144</td>\n",
       "      <td>179</td>\n",
       "    </tr>\n",
       "    <tr>\n",
       "      <th>2</th>\n",
       "      <td>106</td>\n",
       "      <td>171</td>\n",
       "    </tr>\n",
       "    <tr>\n",
       "      <th>3</th>\n",
       "      <td>216</td>\n",
       "      <td>493</td>\n",
       "    </tr>\n",
       "  </tbody>\n",
       "</table>\n",
       "</div>"
      ],
      "text/plain": [
       "sex     female  male\n",
       "pclass              \n",
       "1          144   179\n",
       "2          106   171\n",
       "3          216   493"
      ]
     },
     "execution_count": 13,
     "metadata": {},
     "output_type": "execute_result"
    }
   ],
   "source": [
    "pd.crosstab(data2['pclass'], data2['sex'])"
   ]
  },
  {
   "cell_type": "code",
   "execution_count": 14,
   "metadata": {
    "collapsed": false
   },
   "outputs": [
    {
     "data": {
      "text/html": [
       "<div>\n",
       "<table border=\"1\" class=\"dataframe\">\n",
       "  <thead>\n",
       "    <tr style=\"text-align: right;\">\n",
       "      <th>sibsp</th>\n",
       "      <th>0</th>\n",
       "      <th>1</th>\n",
       "      <th>2</th>\n",
       "      <th>3</th>\n",
       "      <th>4</th>\n",
       "      <th>5</th>\n",
       "      <th>8</th>\n",
       "    </tr>\n",
       "    <tr>\n",
       "      <th>pclass</th>\n",
       "      <th></th>\n",
       "      <th></th>\n",
       "      <th></th>\n",
       "      <th></th>\n",
       "      <th></th>\n",
       "      <th></th>\n",
       "      <th></th>\n",
       "    </tr>\n",
       "  </thead>\n",
       "  <tbody>\n",
       "    <tr>\n",
       "      <th>1</th>\n",
       "      <td>198</td>\n",
       "      <td>113</td>\n",
       "      <td>8</td>\n",
       "      <td>4</td>\n",
       "      <td>0</td>\n",
       "      <td>0</td>\n",
       "      <td>0</td>\n",
       "    </tr>\n",
       "    <tr>\n",
       "      <th>2</th>\n",
       "      <td>182</td>\n",
       "      <td>82</td>\n",
       "      <td>12</td>\n",
       "      <td>1</td>\n",
       "      <td>0</td>\n",
       "      <td>0</td>\n",
       "      <td>0</td>\n",
       "    </tr>\n",
       "    <tr>\n",
       "      <th>3</th>\n",
       "      <td>511</td>\n",
       "      <td>124</td>\n",
       "      <td>22</td>\n",
       "      <td>15</td>\n",
       "      <td>22</td>\n",
       "      <td>6</td>\n",
       "      <td>9</td>\n",
       "    </tr>\n",
       "  </tbody>\n",
       "</table>\n",
       "</div>"
      ],
      "text/plain": [
       "sibsp     0    1   2   3   4  5  8\n",
       "pclass                            \n",
       "1       198  113   8   4   0  0  0\n",
       "2       182   82  12   1   0  0  0\n",
       "3       511  124  22  15  22  6  9"
      ]
     },
     "execution_count": 14,
     "metadata": {},
     "output_type": "execute_result"
    }
   ],
   "source": [
    "pd.crosstab(data2['pclass'], data2['sibsp'])"
   ]
  },
  {
   "cell_type": "code",
   "execution_count": 15,
   "metadata": {
    "collapsed": false
   },
   "outputs": [
    {
     "data": {
      "text/html": [
       "<div>\n",
       "<table border=\"1\" class=\"dataframe\">\n",
       "  <thead>\n",
       "    <tr style=\"text-align: right;\">\n",
       "      <th>parch</th>\n",
       "      <th>0</th>\n",
       "      <th>1</th>\n",
       "      <th>2</th>\n",
       "      <th>3</th>\n",
       "      <th>4</th>\n",
       "      <th>5</th>\n",
       "      <th>6</th>\n",
       "      <th>9</th>\n",
       "    </tr>\n",
       "    <tr>\n",
       "      <th>pclass</th>\n",
       "      <th></th>\n",
       "      <th></th>\n",
       "      <th></th>\n",
       "      <th></th>\n",
       "      <th></th>\n",
       "      <th></th>\n",
       "      <th></th>\n",
       "      <th></th>\n",
       "    </tr>\n",
       "  </thead>\n",
       "  <tbody>\n",
       "    <tr>\n",
       "      <th>1</th>\n",
       "      <td>242</td>\n",
       "      <td>50</td>\n",
       "      <td>27</td>\n",
       "      <td>2</td>\n",
       "      <td>2</td>\n",
       "      <td>0</td>\n",
       "      <td>0</td>\n",
       "      <td>0</td>\n",
       "    </tr>\n",
       "    <tr>\n",
       "      <th>2</th>\n",
       "      <td>206</td>\n",
       "      <td>43</td>\n",
       "      <td>25</td>\n",
       "      <td>3</td>\n",
       "      <td>0</td>\n",
       "      <td>0</td>\n",
       "      <td>0</td>\n",
       "      <td>0</td>\n",
       "    </tr>\n",
       "    <tr>\n",
       "      <th>3</th>\n",
       "      <td>554</td>\n",
       "      <td>77</td>\n",
       "      <td>61</td>\n",
       "      <td>3</td>\n",
       "      <td>4</td>\n",
       "      <td>6</td>\n",
       "      <td>2</td>\n",
       "      <td>2</td>\n",
       "    </tr>\n",
       "  </tbody>\n",
       "</table>\n",
       "</div>"
      ],
      "text/plain": [
       "parch     0   1   2  3  4  5  6  9\n",
       "pclass                            \n",
       "1       242  50  27  2  2  0  0  0\n",
       "2       206  43  25  3  0  0  0  0\n",
       "3       554  77  61  3  4  6  2  2"
      ]
     },
     "execution_count": 15,
     "metadata": {},
     "output_type": "execute_result"
    }
   ],
   "source": [
    "pd.crosstab(data2['pclass'], data2['parch'])"
   ]
  },
  {
   "cell_type": "code",
   "execution_count": 16,
   "metadata": {
    "collapsed": false
   },
   "outputs": [
    {
     "data": {
      "text/html": [
       "<div>\n",
       "<table border=\"1\" class=\"dataframe\">\n",
       "  <thead>\n",
       "    <tr style=\"text-align: right;\">\n",
       "      <th>sibsp</th>\n",
       "      <th>0</th>\n",
       "      <th>1</th>\n",
       "      <th>2</th>\n",
       "      <th>3</th>\n",
       "      <th>4</th>\n",
       "      <th>5</th>\n",
       "      <th>8</th>\n",
       "    </tr>\n",
       "    <tr>\n",
       "      <th>sex</th>\n",
       "      <th></th>\n",
       "      <th></th>\n",
       "      <th></th>\n",
       "      <th></th>\n",
       "      <th></th>\n",
       "      <th></th>\n",
       "      <th></th>\n",
       "    </tr>\n",
       "  </thead>\n",
       "  <tbody>\n",
       "    <tr>\n",
       "      <th>female</th>\n",
       "      <td>262</td>\n",
       "      <td>160</td>\n",
       "      <td>19</td>\n",
       "      <td>12</td>\n",
       "      <td>7</td>\n",
       "      <td>2</td>\n",
       "      <td>4</td>\n",
       "    </tr>\n",
       "    <tr>\n",
       "      <th>male</th>\n",
       "      <td>629</td>\n",
       "      <td>159</td>\n",
       "      <td>23</td>\n",
       "      <td>8</td>\n",
       "      <td>15</td>\n",
       "      <td>4</td>\n",
       "      <td>5</td>\n",
       "    </tr>\n",
       "  </tbody>\n",
       "</table>\n",
       "</div>"
      ],
      "text/plain": [
       "sibsp     0    1   2   3   4  5  8\n",
       "sex                               \n",
       "female  262  160  19  12   7  2  4\n",
       "male    629  159  23   8  15  4  5"
      ]
     },
     "execution_count": 16,
     "metadata": {},
     "output_type": "execute_result"
    }
   ],
   "source": [
    "pd.crosstab(data2['sex'], data2['sibsp'])"
   ]
  },
  {
   "cell_type": "code",
   "execution_count": 17,
   "metadata": {
    "collapsed": false
   },
   "outputs": [
    {
     "data": {
      "text/html": [
       "<div>\n",
       "<table border=\"1\" class=\"dataframe\">\n",
       "  <thead>\n",
       "    <tr style=\"text-align: right;\">\n",
       "      <th>parch</th>\n",
       "      <th>0</th>\n",
       "      <th>1</th>\n",
       "      <th>2</th>\n",
       "      <th>3</th>\n",
       "      <th>4</th>\n",
       "      <th>5</th>\n",
       "      <th>6</th>\n",
       "      <th>9</th>\n",
       "    </tr>\n",
       "    <tr>\n",
       "      <th>sex</th>\n",
       "      <th></th>\n",
       "      <th></th>\n",
       "      <th></th>\n",
       "      <th></th>\n",
       "      <th></th>\n",
       "      <th></th>\n",
       "      <th></th>\n",
       "      <th></th>\n",
       "    </tr>\n",
       "  </thead>\n",
       "  <tbody>\n",
       "    <tr>\n",
       "      <th>female</th>\n",
       "      <td>293</td>\n",
       "      <td>88</td>\n",
       "      <td>69</td>\n",
       "      <td>6</td>\n",
       "      <td>4</td>\n",
       "      <td>4</td>\n",
       "      <td>1</td>\n",
       "      <td>1</td>\n",
       "    </tr>\n",
       "    <tr>\n",
       "      <th>male</th>\n",
       "      <td>709</td>\n",
       "      <td>82</td>\n",
       "      <td>44</td>\n",
       "      <td>2</td>\n",
       "      <td>2</td>\n",
       "      <td>2</td>\n",
       "      <td>1</td>\n",
       "      <td>1</td>\n",
       "    </tr>\n",
       "  </tbody>\n",
       "</table>\n",
       "</div>"
      ],
      "text/plain": [
       "parch     0   1   2  3  4  5  6  9\n",
       "sex                               \n",
       "female  293  88  69  6  4  4  1  1\n",
       "male    709  82  44  2  2  2  1  1"
      ]
     },
     "execution_count": 17,
     "metadata": {},
     "output_type": "execute_result"
    }
   ],
   "source": [
    "pd.crosstab(data2['sex'], data2['parch'])"
   ]
  },
  {
   "cell_type": "code",
   "execution_count": 18,
   "metadata": {
    "collapsed": false
   },
   "outputs": [
    {
     "data": {
      "text/html": [
       "<div>\n",
       "<table border=\"1\" class=\"dataframe\">\n",
       "  <thead>\n",
       "    <tr style=\"text-align: right;\">\n",
       "      <th>parch</th>\n",
       "      <th>0</th>\n",
       "      <th>1</th>\n",
       "      <th>2</th>\n",
       "      <th>3</th>\n",
       "      <th>4</th>\n",
       "      <th>5</th>\n",
       "      <th>6</th>\n",
       "      <th>9</th>\n",
       "    </tr>\n",
       "    <tr>\n",
       "      <th>sibsp</th>\n",
       "      <th></th>\n",
       "      <th></th>\n",
       "      <th></th>\n",
       "      <th></th>\n",
       "      <th></th>\n",
       "      <th></th>\n",
       "      <th></th>\n",
       "      <th></th>\n",
       "    </tr>\n",
       "  </thead>\n",
       "  <tbody>\n",
       "    <tr>\n",
       "      <th>0</th>\n",
       "      <td>790</td>\n",
       "      <td>52</td>\n",
       "      <td>43</td>\n",
       "      <td>2</td>\n",
       "      <td>2</td>\n",
       "      <td>2</td>\n",
       "      <td>0</td>\n",
       "      <td>0</td>\n",
       "    </tr>\n",
       "    <tr>\n",
       "      <th>1</th>\n",
       "      <td>183</td>\n",
       "      <td>90</td>\n",
       "      <td>29</td>\n",
       "      <td>5</td>\n",
       "      <td>4</td>\n",
       "      <td>4</td>\n",
       "      <td>2</td>\n",
       "      <td>2</td>\n",
       "    </tr>\n",
       "    <tr>\n",
       "      <th>2</th>\n",
       "      <td>26</td>\n",
       "      <td>9</td>\n",
       "      <td>6</td>\n",
       "      <td>1</td>\n",
       "      <td>0</td>\n",
       "      <td>0</td>\n",
       "      <td>0</td>\n",
       "      <td>0</td>\n",
       "    </tr>\n",
       "    <tr>\n",
       "      <th>3</th>\n",
       "      <td>3</td>\n",
       "      <td>9</td>\n",
       "      <td>8</td>\n",
       "      <td>0</td>\n",
       "      <td>0</td>\n",
       "      <td>0</td>\n",
       "      <td>0</td>\n",
       "      <td>0</td>\n",
       "    </tr>\n",
       "    <tr>\n",
       "      <th>4</th>\n",
       "      <td>0</td>\n",
       "      <td>10</td>\n",
       "      <td>12</td>\n",
       "      <td>0</td>\n",
       "      <td>0</td>\n",
       "      <td>0</td>\n",
       "      <td>0</td>\n",
       "      <td>0</td>\n",
       "    </tr>\n",
       "    <tr>\n",
       "      <th>5</th>\n",
       "      <td>0</td>\n",
       "      <td>0</td>\n",
       "      <td>6</td>\n",
       "      <td>0</td>\n",
       "      <td>0</td>\n",
       "      <td>0</td>\n",
       "      <td>0</td>\n",
       "      <td>0</td>\n",
       "    </tr>\n",
       "    <tr>\n",
       "      <th>8</th>\n",
       "      <td>0</td>\n",
       "      <td>0</td>\n",
       "      <td>9</td>\n",
       "      <td>0</td>\n",
       "      <td>0</td>\n",
       "      <td>0</td>\n",
       "      <td>0</td>\n",
       "      <td>0</td>\n",
       "    </tr>\n",
       "  </tbody>\n",
       "</table>\n",
       "</div>"
      ],
      "text/plain": [
       "parch    0   1   2  3  4  5  6  9\n",
       "sibsp                            \n",
       "0      790  52  43  2  2  2  0  0\n",
       "1      183  90  29  5  4  4  2  2\n",
       "2       26   9   6  1  0  0  0  0\n",
       "3        3   9   8  0  0  0  0  0\n",
       "4        0  10  12  0  0  0  0  0\n",
       "5        0   0   6  0  0  0  0  0\n",
       "8        0   0   9  0  0  0  0  0"
      ]
     },
     "execution_count": 18,
     "metadata": {},
     "output_type": "execute_result"
    }
   ],
   "source": [
    "pd.crosstab(data2['sibsp'], data2['parch'])"
   ]
  },
  {
   "cell_type": "markdown",
   "metadata": {},
   "source": [
    "数値データとカテゴリデータの関係は箱ひげ図（boxplot）で可視化"
   ]
  },
  {
   "cell_type": "code",
   "execution_count": 19,
   "metadata": {
    "collapsed": false
   },
   "outputs": [
    {
     "data": {
      "image/png": "[encoded data removed]",
      "text/plain": [
       "<matplotlib.figure.Figure at 0x10acbc510>"
      ]
     },
     "metadata": {},
     "output_type": "display_data"
    }
   ],
   "source": [
    "fig, axes = plt.subplots(nrows=5, ncols=2, figsize=(15, 30))\n",
    "data2.boxplot(column='age', by='embarked', ax=axes[0,0])\n",
    "data2.boxplot(column='age', by='pclass', ax=axes[0,1])\n",
    "data2.boxplot(column='age', by='sex', ax=axes[1,0])\n",
    "data2.boxplot(column='age', by='sibsp', ax=axes[1,1])\n",
    "data2.boxplot(column='age', by='parch', ax=axes[2,0])\n",
    "data2.boxplot(column='fare', by='embarked', ax=axes[2,1])\n",
    "data2.boxplot(column='fare', by='pclass', ax=axes[3,0])\n",
    "data2.boxplot(column='fare', by='sex', ax=axes[3,1])\n",
    "data2.boxplot(column='fare', by='sibsp', ax=axes[4,0])\n",
    "data2.boxplot(column='fare', by='parch', ax=axes[4,1])\n",
    "plt.suptitle('')\n",
    "plt.subplots_adjust(wspace=.4, hspace=.2)"
   ]
  },
  {
   "cell_type": "markdown",
   "metadata": {},
   "source": [
    "数値データ同士の関係は散布図（Scatter plot）で可視化"
   ]
  },
  {
   "cell_type": "code",
   "execution_count": 20,
   "metadata": {
    "collapsed": false
   },
   "outputs": [
    {
     "data": {
      "image/png": "[encoded data removed]",
      "text/plain": [
       "<matplotlib.figure.Figure at 0x10a055110>"
      ]
     },
     "metadata": {},
     "output_type": "display_data"
    }
   ],
   "source": [
    "plt.plot(data2['age'], data2['fare'], 'b+')\n",
    "plt.xlabel('age')\n",
    "plt.ylabel('fare')\n",
    "plt.suptitle('')\n",
    "plt.subplots_adjust(wspace=.4, hspace=.2)"
   ]
  },
  {
   "cell_type": "markdown",
   "metadata": {
    "collapsed": false
   },
   "source": [
    "## 欠損値の処理"
   ]
  },
  {
   "cell_type": "markdown",
   "metadata": {},
   "source": [
    "今回は，数値データは中央値で，カテゴリデータは最頻値で補間します．  \n",
    "ただし，運賃（fare）は社会経済的地位（pclass）と相関があるため※  \n",
    "等級ごとの中央値で補間します．  \n",
    "※pclassとfareの可視化結果（boxplot）参照"
   ]
  },
  {
   "cell_type": "code",
   "execution_count": 21,
   "metadata": {
    "collapsed": false
   },
   "outputs": [],
   "source": [
    "age_median = data2['age'].dropna().median()\n",
    "embarked_mode = data2['embarked'].dropna().mode().values\n",
    "fare_median_c1 = data2['fare'][data2['pclass']=='1'].dropna().median()\n",
    "fare_median_c2 = data2['fare'][data2['pclass']=='2'].dropna().median()\n",
    "fare_median_c3 = data2['fare'][data2['pclass']=='3'].dropna().median()"
   ]
  },
  {
   "cell_type": "code",
   "execution_count": 22,
   "metadata": {
    "collapsed": true
   },
   "outputs": [],
   "source": [
    "data2.loc[data2['age'].isnull(), 'age'] = age_median\n",
    "data2.loc[data2['embarked'].isnull(), 'embarked'] = embarked_mode\n",
    "data2.loc[(data2['fare'].isnull()) & (data2['pclass']=='1'), 'fare'] = fare_median_c1\n",
    "data2.loc[(data2['fare'].isnull()) & (data2['pclass']=='2'), 'fare'] = fare_median_c2\n",
    "data2.loc[(data2['fare'].isnull()) & (data2['pclass']=='3'), 'fare'] = fare_median_c3"
   ]
  },
  {
   "cell_type": "code",
   "execution_count": 23,
   "metadata": {
    "collapsed": false
   },
   "outputs": [
    {
     "data": {
      "text/plain": [
       "pclass      0\n",
       "survived    0\n",
       "sex         0\n",
       "age         0\n",
       "sibsp       0\n",
       "parch       0\n",
       "fare        0\n",
       "embarked    0\n",
       "dtype: float64"
      ]
     },
     "execution_count": 23,
     "metadata": {},
     "output_type": "execute_result"
    }
   ],
   "source": [
    "(len(data2) - data2.count()) / len(data2)"
   ]
  },
  {
   "cell_type": "markdown",
   "metadata": {},
   "source": [
    "## カテゴリ変数の処理"
   ]
  },
  {
   "cell_type": "markdown",
   "metadata": {},
   "source": [
    "DictVectorizerはN種類の変数をN個の数値特徴量に変換しますが  \n",
    "これは冗長なので，1つ削除します"
   ]
  },
  {
   "cell_type": "code",
   "execution_count": 24,
   "metadata": {
    "collapsed": true
   },
   "outputs": [],
   "source": [
    "from sklearn.feature_extraction import DictVectorizer as DV"
   ]
  },
  {
   "cell_type": "code",
   "execution_count": 25,
   "metadata": {
    "collapsed": false
   },
   "outputs": [],
   "source": [
    "vec = DV()\n",
    "data2 = pd.DataFrame(vec.fit_transform(data2.T.to_dict().values()).toarray(),\n",
    "                     columns=vec.get_feature_names(), index=data2.index)\n",
    "del data2['embarked=S']\n",
    "del data2['pclass=3']\n",
    "del data2['sex=male']"
   ]
  },
  {
   "cell_type": "markdown",
   "metadata": {},
   "source": [
    "scikit-learnの入力に合わせ，特徴量と目的変数を分けます"
   ]
  },
  {
   "cell_type": "code",
   "execution_count": 26,
   "metadata": {
    "collapsed": false
   },
   "outputs": [],
   "source": [
    "data2_y = data2.pop('survived')"
   ]
  },
  {
   "cell_type": "markdown",
   "metadata": {},
   "source": [
    "## データの標準化"
   ]
  },
  {
   "cell_type": "markdown",
   "metadata": {},
   "source": [
    "数値データを平均0，分散1に標準化します．"
   ]
  },
  {
   "cell_type": "code",
   "execution_count": 27,
   "metadata": {
    "collapsed": true
   },
   "outputs": [],
   "source": [
    "from sklearn.preprocessing import StandardScaler"
   ]
  },
  {
   "cell_type": "code",
   "execution_count": 28,
   "metadata": {
    "collapsed": false
   },
   "outputs": [],
   "source": [
    "standardizer = StandardScaler().fit(data2.loc[:, ['age', 'sibsp', 'parch', 'fare']])\n",
    "data2.loc[:, ['age', 'sibsp', 'parch', 'fare']] =\\\n",
    "    standardizer.transform(data2.loc[:, ['age', 'sibsp', 'parch', 'fare']])"
   ]
  },
  {
   "cell_type": "markdown",
   "metadata": {},
   "source": [
    "## モデリング"
   ]
  },
  {
   "cell_type": "markdown",
   "metadata": {},
   "source": [
    "決定木（Decision tree）を使って生死を予測してみます．  \n",
    "予測結果は精度（accuracy）で評価します．"
   ]
  },
  {
   "cell_type": "markdown",
   "metadata": {},
   "source": [
    "$$精度 = \\frac{正解数}{データ数}$$"
   ]
  },
  {
   "cell_type": "code",
   "execution_count": 29,
   "metadata": {
    "collapsed": false
   },
   "outputs": [],
   "source": [
    "from sklearn.tree import DecisionTreeClassifier"
   ]
  },
  {
   "cell_type": "code",
   "execution_count": 30,
   "metadata": {
    "collapsed": true
   },
   "outputs": [],
   "source": [
    "clf0 = DecisionTreeClassifier(random_state=1).fit(data2, data2_y)"
   ]
  },
  {
   "cell_type": "code",
   "execution_count": 31,
   "metadata": {
    "collapsed": true
   },
   "outputs": [],
   "source": [
    "from sklearn.metrics import accuracy_score"
   ]
  },
  {
   "cell_type": "code",
   "execution_count": 32,
   "metadata": {
    "collapsed": false
   },
   "outputs": [
    {
     "data": {
      "text/plain": [
       "0.96562261268143623"
      ]
     },
     "execution_count": 32,
     "metadata": {},
     "output_type": "execute_result"
    }
   ],
   "source": [
    "accuracy_score(data2_y, clf0.predict(data2))"
   ]
  },
  {
   "cell_type": "markdown",
   "metadata": {
    "collapsed": false
   },
   "source": [
    "## グリッドサーチと交差検証"
   ]
  },
  {
   "cell_type": "code",
   "execution_count": 33,
   "metadata": {
    "collapsed": true
   },
   "outputs": [],
   "source": [
    "from sklearn.grid_search import GridSearchCV\n",
    "from sklearn.cross_validation import KFold"
   ]
  },
  {
   "cell_type": "code",
   "execution_count": 34,
   "metadata": {
    "collapsed": false
   },
   "outputs": [],
   "source": [
    "cv = KFold(data2.shape[0], n_folds=10, shuffle=True, random_state=1)\n",
    "clf1 = GridSearchCV(DecisionTreeClassifier(random_state=1),\n",
    "                    [{'max_depth': [3, 5, 7]}],\n",
    "                    cv=cv, scoring='accuracy', n_jobs=-1).fit(data2, data2_y)"
   ]
  },
  {
   "cell_type": "code",
   "execution_count": 35,
   "metadata": {
    "collapsed": false
   },
   "outputs": [
    {
     "data": {
      "text/plain": [
       "{'max_depth': 5}"
      ]
     },
     "execution_count": 35,
     "metadata": {},
     "output_type": "execute_result"
    }
   ],
   "source": [
    "clf1.best_params_"
   ]
  },
  {
   "cell_type": "code",
   "execution_count": 36,
   "metadata": {
    "collapsed": false
   },
   "outputs": [
    {
     "data": {
      "text/plain": [
       "0.799083269671505"
      ]
     },
     "execution_count": 36,
     "metadata": {},
     "output_type": "execute_result"
    }
   ],
   "source": [
    "clf1.best_score_"
   ]
  },
  {
   "cell_type": "markdown",
   "metadata": {},
   "source": [
    "## 学習曲線"
   ]
  },
  {
   "cell_type": "code",
   "execution_count": 37,
   "metadata": {
    "collapsed": true
   },
   "outputs": [],
   "source": [
    "from sklearn.learning_curve import learning_curve\n",
    "import numpy as np"
   ]
  },
  {
   "cell_type": "code",
   "execution_count": 38,
   "metadata": {
    "collapsed": false
   },
   "outputs": [],
   "source": [
    "cv = KFold(data2.shape[0], n_folds=10, shuffle=True, random_state=1)\n",
    "train_sizes, train_scores, test_scores = learning_curve(\n",
    "        clf1.best_estimator_, data2, data2_y, cv=cv, scoring='accuracy',\n",
    "        train_sizes=[0.1, 0.2, 0.3, 0.4, 0.5, 0.6, 0.7, 0.8, 0.9, 1.0], n_jobs=-1)\n",
    "train_scores_mean = np.mean(train_scores, axis=1)\n",
    "test_scores_mean = np.mean(test_scores, axis=1)"
   ]
  },
  {
   "cell_type": "code",
   "execution_count": 39,
   "metadata": {
    "collapsed": false
   },
   "outputs": [
    {
     "data": {
      "text/plain": [
       "<matplotlib.legend.Legend at 0x10a0a4f90>"
      ]
     },
     "execution_count": 39,
     "metadata": {},
     "output_type": "execute_result"
    },
    {
     "data": {
      "image/png": "[encoded data removed]",
      "text/plain": [
       "<matplotlib.figure.Figure at 0x1075c5910>"
      ]
     },
     "metadata": {},
     "output_type": "display_data"
    }
   ],
   "source": [
    "plt.figure()\n",
    "plt.xlabel(\"Training examples\")\n",
    "plt.ylabel(\"Score\")\n",
    "plt.grid()\n",
    "plt.plot(train_sizes, train_scores_mean, 'o-', color=\"r\", label=\"Training score\")\n",
    "plt.plot(train_sizes, test_scores_mean, 'o-', color=\"g\", label=\"Cross-validation score\")\n",
    "plt.ylim((0.4, 1.))\n",
    "plt.legend(loc=\"lower right\")"
   ]
  },
  {
   "cell_type": "markdown",
   "metadata": {},
   "source": [
    "学習曲線をみると，  \n",
    "\n",
    "+ 訓練スコアが低い  \n",
    "+ 訓練スコアと交差検証スコアの差が小さい  \n",
    "\n",
    "ことから，**ハイバイアス**な状態であると分かります．\n",
    "\n",
    "そこで，性能改善のために，  \n",
    "\n",
    "+ 柔軟性の高いモデルに変更する  \n",
    "+ 特徴量を追加する  \n",
    "\n",
    "を検討してみます．"
   ]
  },
  {
   "cell_type": "markdown",
   "metadata": {},
   "source": [
    "## モデルの変更"
   ]
  },
  {
   "cell_type": "markdown",
   "metadata": {},
   "source": [
    "モデルをより柔軟性の高い，アンサンブル学習（ブースティング）を利用したGradientBoostingClassifierに変更してみます．"
   ]
  },
  {
   "cell_type": "code",
   "execution_count": 40,
   "metadata": {
    "collapsed": true
   },
   "outputs": [],
   "source": [
    "from sklearn.ensemble import GradientBoostingClassifier"
   ]
  },
  {
   "cell_type": "code",
   "execution_count": 41,
   "metadata": {
    "collapsed": false
   },
   "outputs": [],
   "source": [
    "cv = KFold(data2.shape[0], n_folds=10, shuffle=True, random_state=1)\n",
    "clf2 = GridSearchCV(GradientBoostingClassifier(n_estimators=100, random_state=1),\n",
    "                    [{'max_leaf_nodes': [3, 5, 7, 9],\n",
    "                      'min_samples_leaf': [9, 13, 17, 21],\n",
    "                      'learning_rate': [0.3, 0.4, 0.5]}],\n",
    "                    cv=cv, scoring='accuracy', n_jobs=-1).fit(data2, data2_y)"
   ]
  },
  {
   "cell_type": "code",
   "execution_count": 42,
   "metadata": {
    "collapsed": false
   },
   "outputs": [
    {
     "data": {
      "text/plain": [
       "{'learning_rate': 0.4, 'max_leaf_nodes': 5, 'min_samples_leaf': 17}"
      ]
     },
     "execution_count": 42,
     "metadata": {},
     "output_type": "execute_result"
    }
   ],
   "source": [
    "clf2.best_params_"
   ]
  },
  {
   "cell_type": "code",
   "execution_count": 43,
   "metadata": {
    "collapsed": false
   },
   "outputs": [
    {
     "data": {
      "text/plain": [
       "0.82352941176470584"
      ]
     },
     "execution_count": 43,
     "metadata": {},
     "output_type": "execute_result"
    }
   ],
   "source": [
    "clf2.best_score_"
   ]
  },
  {
   "cell_type": "markdown",
   "metadata": {},
   "source": [
    "| グリッドサーチ＋交差検証 | モデル変更\n",
    "| -: |-------------: \n",
    "|0.799| 0.824"
   ]
  },
  {
   "cell_type": "markdown",
   "metadata": {},
   "source": [
    "## 特徴量の追加，変更"
   ]
  },
  {
   "cell_type": "markdown",
   "metadata": {},
   "source": [
    "欠損率が高く利用を見送っていた**cabin**の情報を利用してみます．  \n",
    "cabinは文字＋数値という形なので，文字と数値に分離して利用します．"
   ]
  },
  {
   "cell_type": "code",
   "execution_count": 44,
   "metadata": {
    "collapsed": true
   },
   "outputs": [],
   "source": [
    "data3 = data2.copy(deep=True)"
   ]
  },
  {
   "cell_type": "code",
   "execution_count": 45,
   "metadata": {
    "collapsed": false
   },
   "outputs": [],
   "source": [
    "import re\n",
    "data3['cabin'] = data['cabin']\n",
    "data3.loc[data3['cabin'].isnull(), 'cabin'] = 'unknown'\n",
    "\n",
    "cabin_room = [re.sub('^[^\\d]+(\\d+).*$', '\\\\1', c) for c in data3['cabin']]\n",
    "data3['cabin_room'] = [int(c) if c.isdigit() else 0 for c in cabin_room]\n",
    "\n",
    "data3['cabin'] = [re.sub('^([A-Z]).*$', '\\\\1', c) for c in data3['cabin']]\n",
    "\n",
    "vec = DV()\n",
    "data3 = pd.DataFrame(vec.fit_transform(data3.T.to_dict().values()).toarray(),\n",
    "                     columns=vec.get_feature_names(), index=data3.index)\n",
    "del data3['cabin=unknown']"
   ]
  },
  {
   "cell_type": "code",
   "execution_count": 46,
   "metadata": {
    "collapsed": false
   },
   "outputs": [],
   "source": [
    "cv = KFold(data3.shape[0], n_folds=10, shuffle=True, random_state=1)\n",
    "clf3 = GridSearchCV(GradientBoostingClassifier(n_estimators=100, random_state=1),\n",
    "                    [{'max_leaf_nodes': [3, 5, 7, 9],\n",
    "                      'min_samples_leaf': [5, 9, 13, 17],\n",
    "                      'learning_rate': [0.1, 0.2, 0.3, 0.4]}],\n",
    "                    cv=cv, scoring='accuracy', n_jobs=-1).fit(data3, data2_y)"
   ]
  },
  {
   "cell_type": "code",
   "execution_count": 47,
   "metadata": {
    "collapsed": false
   },
   "outputs": [
    {
     "data": {
      "text/plain": [
       "{'learning_rate': 0.3, 'max_leaf_nodes': 5, 'min_samples_leaf': 9}"
      ]
     },
     "execution_count": 47,
     "metadata": {},
     "output_type": "execute_result"
    }
   ],
   "source": [
    "clf3.best_params_"
   ]
  },
  {
   "cell_type": "code",
   "execution_count": 48,
   "metadata": {
    "collapsed": false
   },
   "outputs": [
    {
     "data": {
      "text/plain": [
       "0.82887700534759357"
      ]
     },
     "execution_count": 48,
     "metadata": {},
     "output_type": "execute_result"
    }
   ],
   "source": [
    "clf3.best_score_"
   ]
  },
  {
   "cell_type": "markdown",
   "metadata": {},
   "source": [
    "| グリッドサーチ＋交差検証 | モデル変更 | cabin利用 \n",
    "| -: |-------------: | -: \n",
    "|0.799| 0.824 | 0.829 "
   ]
  },
  {
   "cell_type": "markdown",
   "metadata": {},
   "source": [
    "単純に中央値で補間していた年齢の欠損値を，その他の特徴量を使って予測してみます．"
   ]
  },
  {
   "cell_type": "code",
   "execution_count": 49,
   "metadata": {
    "collapsed": false
   },
   "outputs": [
    {
     "data": {
      "text/plain": [
       "{'max_depth': 3}"
      ]
     },
     "execution_count": 49,
     "metadata": {},
     "output_type": "execute_result"
    }
   ],
   "source": [
    "data4 = data3.copy(deep=True)\n",
    "title = [re.split('\\.|,', n)[1].strip() for n in data['name']]\n",
    "data4['immature'] = [1 if t in ['Master', 'Mlle', 'Miss'] else 0 for t in title]\n",
    "data4 = data4[['sibsp', 'parch', 'pclass=1', 'pclass=2', 'fare', 'immature']]\n",
    "cv = KFold(data4[data['age'].notnull()].shape[0], n_folds=10, shuffle=True,\n",
    "           random_state=1)\n",
    "from sklearn.tree import DecisionTreeRegressor\n",
    "clf_age = GridSearchCV(DecisionTreeRegressor(random_state=1),\n",
    "                       [{'max_depth': [2, 3, 4]}],\n",
    "                       cv=cv,\n",
    "                       n_jobs=-1).fit(data4[data['age'].notnull()],\n",
    "                                     data['age'][data['age'].notnull()])\n",
    "clf_age.best_params_"
   ]
  },
  {
   "cell_type": "code",
   "execution_count": 50,
   "metadata": {
    "collapsed": true
   },
   "outputs": [],
   "source": [
    "data3.loc[data['age'].isnull(), 'age'] = clf_age.predict(data4[data['age'].isnull()])"
   ]
  },
  {
   "cell_type": "code",
   "execution_count": 51,
   "metadata": {
    "collapsed": true
   },
   "outputs": [],
   "source": [
    "cv = KFold(data3.shape[0], n_folds=10, shuffle=True, random_state=1)\n",
    "clf4 = GridSearchCV(GradientBoostingClassifier(n_estimators=100, random_state=1),\n",
    "                    [{'max_leaf_nodes': [5, 7, 9, 11],\n",
    "                      'min_samples_leaf': [13, 17, 21, 25],\n",
    "                      'learning_rate': [0.1, 0.2, 0.3, 0.4]}],\n",
    "                    cv=cv, scoring='accuracy', n_jobs=-1).fit(data3, data2_y)"
   ]
  },
  {
   "cell_type": "code",
   "execution_count": 52,
   "metadata": {
    "collapsed": false
   },
   "outputs": [
    {
     "data": {
      "text/plain": [
       "{'learning_rate': 0.2, 'max_leaf_nodes': 7, 'min_samples_leaf': 17}"
      ]
     },
     "execution_count": 52,
     "metadata": {},
     "output_type": "execute_result"
    }
   ],
   "source": [
    "clf4.best_params_"
   ]
  },
  {
   "cell_type": "code",
   "execution_count": 53,
   "metadata": {
    "collapsed": false
   },
   "outputs": [
    {
     "data": {
      "text/plain": [
       "0.8304048892284186"
      ]
     },
     "execution_count": 53,
     "metadata": {},
     "output_type": "execute_result"
    }
   ],
   "source": [
    "clf4.best_score_"
   ]
  },
  {
   "cell_type": "markdown",
   "metadata": {},
   "source": [
    "| グリッドサーチ＋交差検証 | モデル変更 | cabin利用 | age予測 \n",
    "| -: |-------------: | -: | -: \n",
    "|0.799| 0.824 | 0.829 | 0.830 "
   ]
  }
 ],
 "metadata": {
  "kernelspec": {
   "display_name": "Python 2",
   "language": "python",
   "name": "python2"
  },
  "language_info": {
   "codemirror_mode": {
    "name": "ipython",
    "version": 2
   },
   "file_extension": ".py",
   "mimetype": "text/x-python",
   "name": "python",
   "nbconvert_exporter": "python",
   "pygments_lexer": "ipython2",
   "version": "2.7.10"
  }
 },
 "nbformat": 4,
 "nbformat_minor": 0
}
